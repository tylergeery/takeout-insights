{
 "cells": [
  {
   "cell_type": "code",
   "execution_count": 9,
   "metadata": {
    "collapsed": false
   },
   "outputs": [
    {
     "data": {
      "text/html": [
       "<div>\n",
       "<table border=\"1\" class=\"dataframe\">\n",
       "  <thead>\n",
       "    <tr style=\"text-align: right;\">\n",
       "      <th></th>\n",
       "      <th>client_id</th>\n",
       "      <th>favicon_url</th>\n",
       "      <th>page_transition</th>\n",
       "      <th>time_usec</th>\n",
       "      <th>title</th>\n",
       "      <th>url</th>\n",
       "    </tr>\n",
       "  </thead>\n",
       "  <tbody>\n",
       "    <tr>\n",
       "      <th>0</th>\n",
       "      <td>F3C75XhUAIfrT3nvBz5vIQ==</td>\n",
       "      <td>https://www.expedia.com/favicon.ico</td>\n",
       "      <td>LINK</td>\n",
       "      <td>1480194801825151</td>\n",
       "      <td>West Wind Inn (Sanibel, United States of Ameri...</td>\n",
       "      <td>https://www.expedia.com/Fort-Myers-Hotels-West...</td>\n",
       "    </tr>\n",
       "    <tr>\n",
       "      <th>1</th>\n",
       "      <td>F3C75XhUAIfrT3nvBz5vIQ==</td>\n",
       "      <td>https://www.google.com/favicon.ico</td>\n",
       "      <td>LINK</td>\n",
       "      <td>1480193699968093</td>\n",
       "      <td>Data tools - Download your data</td>\n",
       "      <td>https://takeout.google.com/settings/takeout</td>\n",
       "    </tr>\n",
       "    <tr>\n",
       "      <th>2</th>\n",
       "      <td>F3C75XhUAIfrT3nvBz5vIQ==</td>\n",
       "      <td>https://www.google.com/images/branding/product...</td>\n",
       "      <td>GENERATED</td>\n",
       "      <td>1480193697076810</td>\n",
       "      <td>google takeout - Google Search</td>\n",
       "      <td>https://www.google.com/webhp?sourceid=chrome-i...</td>\n",
       "    </tr>\n",
       "    <tr>\n",
       "      <th>3</th>\n",
       "      <td>F3C75XhUAIfrT3nvBz5vIQ==</td>\n",
       "      <td>https://www.google.com/favicon.ico</td>\n",
       "      <td>LINK</td>\n",
       "      <td>1480193685823082</td>\n",
       "      <td>Data tools - Download your data</td>\n",
       "      <td>https://takeout.google.com/settings/takeout</td>\n",
       "    </tr>\n",
       "    <tr>\n",
       "      <th>4</th>\n",
       "      <td>F3C75XhUAIfrT3nvBz5vIQ==</td>\n",
       "      <td>https://www.google.com/images/branding/product...</td>\n",
       "      <td>GENERATED</td>\n",
       "      <td>1480193682844871</td>\n",
       "      <td>google takeout - Google Search</td>\n",
       "      <td>https://www.google.com/webhp?sourceid=chrome-i...</td>\n",
       "    </tr>\n",
       "  </tbody>\n",
       "</table>\n",
       "</div>"
      ],
      "text/plain": [
       "                  client_id  \\\n",
       "0  F3C75XhUAIfrT3nvBz5vIQ==   \n",
       "1  F3C75XhUAIfrT3nvBz5vIQ==   \n",
       "2  F3C75XhUAIfrT3nvBz5vIQ==   \n",
       "3  F3C75XhUAIfrT3nvBz5vIQ==   \n",
       "4  F3C75XhUAIfrT3nvBz5vIQ==   \n",
       "\n",
       "                                         favicon_url page_transition  \\\n",
       "0                https://www.expedia.com/favicon.ico            LINK   \n",
       "1                 https://www.google.com/favicon.ico            LINK   \n",
       "2  https://www.google.com/images/branding/product...       GENERATED   \n",
       "3                 https://www.google.com/favicon.ico            LINK   \n",
       "4  https://www.google.com/images/branding/product...       GENERATED   \n",
       "\n",
       "          time_usec                                              title  \\\n",
       "0  1480194801825151  West Wind Inn (Sanibel, United States of Ameri...   \n",
       "1  1480193699968093                    Data tools - Download your data   \n",
       "2  1480193697076810                     google takeout - Google Search   \n",
       "3  1480193685823082                    Data tools - Download your data   \n",
       "4  1480193682844871                     google takeout - Google Search   \n",
       "\n",
       "                                                 url  \n",
       "0  https://www.expedia.com/Fort-Myers-Hotels-West...  \n",
       "1        https://takeout.google.com/settings/takeout  \n",
       "2  https://www.google.com/webhp?sourceid=chrome-i...  \n",
       "3        https://takeout.google.com/settings/takeout  \n",
       "4  https://www.google.com/webhp?sourceid=chrome-i...  "
      ]
     },
     "execution_count": 9,
     "metadata": {},
     "output_type": "execute_result"
    }
   ],
   "source": [
    "%matplotlib inline\n",
    "import matplotlib.pyplot as plt\n",
    "import json\n",
    "import datetime\n",
    "import pandas as pd\n",
    "import numpy as np\n",
    "\n",
    "from pprint import pprint\n",
    "\n",
    "with open('./data/Chrome/BrowserHistory.json') as data_file:    \n",
    "    data = json.load(data_file)\n",
    "\n",
    "chrome_df = pd.DataFrame(data[\"Browser History\"])\n",
    "chrome_df.head()"
   ]
  },
  {
   "cell_type": "code",
   "execution_count": 2,
   "metadata": {
    "collapsed": false
   },
   "outputs": [],
   "source": [
    "### Make these dates usable"
   ]
  },
  {
   "cell_type": "code",
   "execution_count": 3,
   "metadata": {
    "collapsed": false
   },
   "outputs": [],
   "source": [
    "def get_month_day_hour(timestamp):\n",
    "    date = datetime.date.fromtimestamp(timestamp)\n",
    "\n",
    "    return (date.strftime('%b'), date.strftime('%a'), date.strftime('%-H'))\n",
    "\n",
    "chrome_df['timestamp'] = (chrome_df['time_usec']/1000000).astype(int) # in microseconds\n",
    "chrome_df['month'], chrome_df['day_of_week'], chrome_df['hour'] = zip(*chrome_df[\"timestamp\"].map(get_month_day_hour))"
   ]
  },
  {
   "cell_type": "code",
   "execution_count": 4,
   "metadata": {
    "collapsed": false
   },
   "outputs": [],
   "source": [
    "### Filter urls"
   ]
  },
  {
   "cell_type": "code",
   "execution_count": 11,
   "metadata": {
    "collapsed": false
   },
   "outputs": [],
   "source": [
    "chrome_df['site'] = chrome_df['url'].str.extract('\\.(\\w+)(?:\\.com|\\.org|\\.net|\\.co)')"
   ]
  },
  {
   "cell_type": "code",
   "execution_count": 6,
   "metadata": {
    "collapsed": false
   },
   "outputs": [
    {
     "data": {
      "text/html": [
       "<div>\n",
       "<table border=\"1\" class=\"dataframe\">\n",
       "  <thead>\n",
       "    <tr style=\"text-align: right;\">\n",
       "      <th></th>\n",
       "      <th>client_id</th>\n",
       "      <th>favicon_url</th>\n",
       "      <th>page_transition</th>\n",
       "      <th>time_usec</th>\n",
       "      <th>title</th>\n",
       "      <th>url</th>\n",
       "      <th>timestamp</th>\n",
       "      <th>month</th>\n",
       "      <th>day_of_week</th>\n",
       "      <th>hour</th>\n",
       "      <th>site</th>\n",
       "    </tr>\n",
       "  </thead>\n",
       "  <tbody>\n",
       "    <tr>\n",
       "      <th>0</th>\n",
       "      <td>F3C75XhUAIfrT3nvBz5vIQ==</td>\n",
       "      <td>https://www.expedia.com/favicon.ico</td>\n",
       "      <td>LINK</td>\n",
       "      <td>1480194801825151</td>\n",
       "      <td>West Wind Inn (Sanibel, United States of Ameri...</td>\n",
       "      <td>https://www.expedia.com/Fort-Myers-Hotels-West...</td>\n",
       "      <td>1480194801</td>\n",
       "      <td>Nov</td>\n",
       "      <td>Sat</td>\n",
       "      <td>0</td>\n",
       "      <td>expedia</td>\n",
       "    </tr>\n",
       "    <tr>\n",
       "      <th>1</th>\n",
       "      <td>F3C75XhUAIfrT3nvBz5vIQ==</td>\n",
       "      <td>https://www.google.com/favicon.ico</td>\n",
       "      <td>LINK</td>\n",
       "      <td>1480193699968093</td>\n",
       "      <td>Data tools - Download your data</td>\n",
       "      <td>https://takeout.google.com/settings/takeout</td>\n",
       "      <td>1480193699</td>\n",
       "      <td>Nov</td>\n",
       "      <td>Sat</td>\n",
       "      <td>0</td>\n",
       "      <td>google</td>\n",
       "    </tr>\n",
       "    <tr>\n",
       "      <th>2</th>\n",
       "      <td>F3C75XhUAIfrT3nvBz5vIQ==</td>\n",
       "      <td>https://www.google.com/images/branding/product...</td>\n",
       "      <td>GENERATED</td>\n",
       "      <td>1480193697076810</td>\n",
       "      <td>google takeout - Google Search</td>\n",
       "      <td>https://www.google.com/webhp?sourceid=chrome-i...</td>\n",
       "      <td>1480193697</td>\n",
       "      <td>Nov</td>\n",
       "      <td>Sat</td>\n",
       "      <td>0</td>\n",
       "      <td>google</td>\n",
       "    </tr>\n",
       "    <tr>\n",
       "      <th>3</th>\n",
       "      <td>F3C75XhUAIfrT3nvBz5vIQ==</td>\n",
       "      <td>https://www.google.com/favicon.ico</td>\n",
       "      <td>LINK</td>\n",
       "      <td>1480193685823082</td>\n",
       "      <td>Data tools - Download your data</td>\n",
       "      <td>https://takeout.google.com/settings/takeout</td>\n",
       "      <td>1480193685</td>\n",
       "      <td>Nov</td>\n",
       "      <td>Sat</td>\n",
       "      <td>0</td>\n",
       "      <td>google</td>\n",
       "    </tr>\n",
       "    <tr>\n",
       "      <th>4</th>\n",
       "      <td>F3C75XhUAIfrT3nvBz5vIQ==</td>\n",
       "      <td>https://www.google.com/images/branding/product...</td>\n",
       "      <td>GENERATED</td>\n",
       "      <td>1480193682844871</td>\n",
       "      <td>google takeout - Google Search</td>\n",
       "      <td>https://www.google.com/webhp?sourceid=chrome-i...</td>\n",
       "      <td>1480193682</td>\n",
       "      <td>Nov</td>\n",
       "      <td>Sat</td>\n",
       "      <td>0</td>\n",
       "      <td>google</td>\n",
       "    </tr>\n",
       "  </tbody>\n",
       "</table>\n",
       "</div>"
      ],
      "text/plain": [
       "                  client_id  \\\n",
       "0  F3C75XhUAIfrT3nvBz5vIQ==   \n",
       "1  F3C75XhUAIfrT3nvBz5vIQ==   \n",
       "2  F3C75XhUAIfrT3nvBz5vIQ==   \n",
       "3  F3C75XhUAIfrT3nvBz5vIQ==   \n",
       "4  F3C75XhUAIfrT3nvBz5vIQ==   \n",
       "\n",
       "                                         favicon_url page_transition  \\\n",
       "0                https://www.expedia.com/favicon.ico            LINK   \n",
       "1                 https://www.google.com/favicon.ico            LINK   \n",
       "2  https://www.google.com/images/branding/product...       GENERATED   \n",
       "3                 https://www.google.com/favicon.ico            LINK   \n",
       "4  https://www.google.com/images/branding/product...       GENERATED   \n",
       "\n",
       "          time_usec                                              title  \\\n",
       "0  1480194801825151  West Wind Inn (Sanibel, United States of Ameri...   \n",
       "1  1480193699968093                    Data tools - Download your data   \n",
       "2  1480193697076810                     google takeout - Google Search   \n",
       "3  1480193685823082                    Data tools - Download your data   \n",
       "4  1480193682844871                     google takeout - Google Search   \n",
       "\n",
       "                                                 url   timestamp month  \\\n",
       "0  https://www.expedia.com/Fort-Myers-Hotels-West...  1480194801   Nov   \n",
       "1        https://takeout.google.com/settings/takeout  1480193699   Nov   \n",
       "2  https://www.google.com/webhp?sourceid=chrome-i...  1480193697   Nov   \n",
       "3        https://takeout.google.com/settings/takeout  1480193685   Nov   \n",
       "4  https://www.google.com/webhp?sourceid=chrome-i...  1480193682   Nov   \n",
       "\n",
       "  day_of_week hour     site  \n",
       "0         Sat    0  expedia  \n",
       "1         Sat    0   google  \n",
       "2         Sat    0   google  \n",
       "3         Sat    0   google  \n",
       "4         Sat    0   google  "
      ]
     },
     "execution_count": 6,
     "metadata": {},
     "output_type": "execute_result"
    }
   ],
   "source": [
    "### Plot some data\n",
    "chrome_df.head()"
   ]
  },
  {
   "cell_type": "code",
   "execution_count": null,
   "metadata": {
    "collapsed": false
   },
   "outputs": [],
   "source": []
  },
  {
   "cell_type": "code",
   "execution_count": 33,
   "metadata": {
    "collapsed": false
   },
   "outputs": [
    {
     "data": {
      "text/plain": [
       "<matplotlib.axes._subplots.AxesSubplot at 0x14d191610>"
      ]
     },
     "execution_count": 33,
     "metadata": {},
     "output_type": "execute_result"
    },
    {
     "data": {
      "image/png": "[encoded data removed]",
      "text/plain": [
       "<matplotlib.figure.Figure at 0x14b57d790>"
      ]
     },
     "metadata": {},
     "output_type": "display_data"
    }
   ],
   "source": [
    "chrome_df.head(500).groupby(\"site\").agg(['count']).plot(kind=\"bar\")"
   ]
  },
  {
   "cell_type": "code",
   "execution_count": null,
   "metadata": {
    "collapsed": false
   },
   "outputs": [],
   "source": []
  },
  {
   "cell_type": "code",
   "execution_count": null,
   "metadata": {
    "collapsed": true
   },
   "outputs": [],
   "source": []
  }
 ],
 "metadata": {
  "kernelspec": {
   "display_name": "Python 2",
   "language": "python",
   "name": "python2"
  },
  "language_info": {
   "codemirror_mode": {
    "name": "ipython",
    "version": 2
   },
   "file_extension": ".py",
   "mimetype": "text/x-python",
   "name": "python",
   "nbconvert_exporter": "python",
   "pygments_lexer": "ipython2",
   "version": "2.7.11"
  }
 },
 "nbformat": 4,
 "nbformat_minor": 0
}
